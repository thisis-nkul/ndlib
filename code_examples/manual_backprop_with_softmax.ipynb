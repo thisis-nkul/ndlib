{
 "metadata": {
  "language_info": {
   "codemirror_mode": {
    "name": "ipython",
    "version": 3
   },
   "file_extension": ".py",
   "mimetype": "text/x-python",
   "name": "python",
   "nbconvert_exporter": "python",
   "pygments_lexer": "ipython3",
   "version": "3.8.5-final"
  },
  "orig_nbformat": 2,
  "kernelspec": {
   "name": "python38264bite84bebfac701438ebc1e8670f68f7992",
   "display_name": "Python 3.8.2 64-bit"
  }
 },
 "nbformat": 4,
 "nbformat_minor": 2,
 "cells": [
  {
   "cell_type": "code",
   "execution_count": 1,
   "metadata": {},
   "outputs": [],
   "source": [
    "import numpy as np\n",
    "import ndlib\n",
    "import ndlib.nn as nn\n",
    "import ndlib.functional as F"
   ]
  },
  {
   "cell_type": "code",
   "execution_count": 2,
   "metadata": {},
   "outputs": [
    {
     "output_type": "stream",
     "name": "stdout",
     "text": [
      "None\n"
     ]
    }
   ],
   "source": [
    "mdn = nn.SimpleNN(4, [100, 80, 40, 20, 8], activations=['relu', 'relu', 'relu', 'softmax'])\n",
    "x = np.random.randn(100, 1)     #batch_size: 20\n",
    "y = np.asarray([0.204, 0.16, 0.2, 0.09, 0.016, 0.03, 0.05, 0.25]).reshape(8,1)      #target\n",
    "m = 20      #batch_size\n",
    "learning_rate = 0.01\n",
    "print(mdn.output)\n",
    "epochs = 500"
   ]
  },
  {
   "cell_type": "code",
   "execution_count": 3,
   "metadata": {},
   "outputs": [
    {
     "output_type": "stream",
     "name": "stdout",
     "text": [
      "Cost after epoch 0: 0.5830897851684851\n",
      "Cost after epoch 50: 0.22509833515690333\n",
      "Cost after epoch 100: 0.19173502442921173\n",
      "Cost after epoch 150: 0.16609040102682382\n",
      "Cost after epoch 200: 0.14570158212559284\n",
      "Cost after epoch 250: 0.132090746701078\n",
      "Cost after epoch 300: 0.12106076600645355\n",
      "Cost after epoch 350: 0.11021463978121611\n",
      "Cost after epoch 400: 0.10024151294811412\n",
      "Cost after epoch 450: 0.09387682599485257\n"
     ]
    }
   ],
   "source": [
    "for i in range(epochs):\n",
    "    out = mdn(x)\n",
    "    loss = nn.CrossEntropyLoss(out, y, m)\n",
    "    loss.compute_cost()\n",
    "\n",
    "    if i%50 == 0:\n",
    "        print('Cost after epoch {}: {}'.format(i, loss.cost))\n",
    "\n",
    "    lb = loss.backward()\n",
    "\n",
    "    for layer in mdn.layers[::-1]:\n",
    "        lb = layer.backward(lb, m)\n",
    "        if hasattr(layer, 'W'):\n",
    "            layer.W = layer.W - learning_rate*layer.dW\n",
    "            layer.b = layer.b - learning_rate*layer.db\n"
   ]
  },
  {
   "cell_type": "code",
   "execution_count": 4,
   "metadata": {},
   "outputs": [
    {
     "output_type": "execute_result",
     "data": {
      "text/plain": [
       "array([[0.204],\n",
       "       [0.16 ],\n",
       "       [0.2  ],\n",
       "       [0.09 ],\n",
       "       [0.016],\n",
       "       [0.03 ],\n",
       "       [0.05 ],\n",
       "       [0.25 ]])"
      ]
     },
     "metadata": {},
     "execution_count": 4
    }
   ],
   "source": [
    "y"
   ]
  },
  {
   "cell_type": "code",
   "execution_count": 5,
   "metadata": {},
   "outputs": [
    {
     "output_type": "execute_result",
     "data": {
      "text/plain": [
       "array([[0.21254052],\n",
       "       [0.12869437],\n",
       "       [0.20080372],\n",
       "       [0.07626797],\n",
       "       [0.03750012],\n",
       "       [0.03580285],\n",
       "       [0.05908454],\n",
       "       [0.24930591]])"
      ]
     },
     "metadata": {},
     "execution_count": 5
    }
   ],
   "source": [
    "mdn(x)"
   ]
  }
 ]
}