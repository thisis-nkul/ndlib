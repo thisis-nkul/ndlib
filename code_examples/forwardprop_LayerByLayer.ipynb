{
 "metadata": {
  "language_info": {
   "codemirror_mode": {
    "name": "ipython",
    "version": 3
   },
   "file_extension": ".py",
   "mimetype": "text/x-python",
   "name": "python",
   "nbconvert_exporter": "python",
   "pygments_lexer": "ipython3",
   "version": "3.8.5-final"
  },
  "orig_nbformat": 2,
  "kernelspec": {
   "name": "python38264bite84bebfac701438ebc1e8670f68f7992",
   "display_name": "Python 3.8.2 64-bit"
  }
 },
 "nbformat": 4,
 "nbformat_minor": 2,
 "cells": [
  {
   "cell_type": "code",
   "execution_count": 1,
   "metadata": {},
   "outputs": [],
   "source": [
    "import numpy as np\n",
    "import ndlib.nn as nn\n",
    "import ndlib.functional as F"
   ]
  },
  {
   "cell_type": "code",
   "execution_count": 2,
   "metadata": {},
   "outputs": [],
   "source": [
    "l1 = nn.Linear(8, 8, activation='relu')\n",
    "l2 = nn.Linear(8, 4, activation='relu')\n",
    "l3 = nn.Linear(4, 2, activation='softmax')"
   ]
  },
  {
   "cell_type": "code",
   "execution_count": 3,
   "metadata": {},
   "outputs": [],
   "source": [
    "X = np.random.randn(8, 2)"
   ]
  },
  {
   "cell_type": "code",
   "execution_count": 4,
   "metadata": {},
   "outputs": [],
   "source": [
    "t = l1(X)"
   ]
  },
  {
   "cell_type": "code",
   "execution_count": 5,
   "metadata": {},
   "outputs": [
    {
     "output_type": "stream",
     "name": "stdout",
     "text": [
      "[[ 4.04871074e+00  3.37626490e+00]\n [ 5.13257598e-01  5.79882888e-01]\n [-2.71909866e+00 -2.02670316e+00]\n [ 1.92951437e+00 -3.58934121e-03]\n [ 2.11103569e+00  2.03084126e+00]\n [-7.29032961e-01  2.65626616e-01]\n [ 5.69595558e-01 -3.84928494e-01]\n [ 7.78487969e-01  1.47299764e+00]]\n[[4.04871074 3.3762649 ]\n [0.5132576  0.57988289]\n [0.         0.        ]\n [1.92951437 0.        ]\n [2.11103569 2.03084126]\n [0.         0.26562662]\n [0.56959556 0.        ]\n [0.77848797 1.47299764]]\n"
     ]
    }
   ],
   "source": [
    "print(l1.Z)\n",
    "print(l1.A)"
   ]
  },
  {
   "cell_type": "code",
   "execution_count": 6,
   "metadata": {},
   "outputs": [
    {
     "output_type": "execute_result",
     "data": {
      "text/plain": [
       "(8, 2)"
      ]
     },
     "metadata": {},
     "execution_count": 6
    }
   ],
   "source": [
    "t.shape"
   ]
  },
  {
   "cell_type": "code",
   "execution_count": 7,
   "metadata": {},
   "outputs": [],
   "source": [
    "t = l2(t)\n"
   ]
  },
  {
   "cell_type": "code",
   "execution_count": 8,
   "metadata": {},
   "outputs": [
    {
     "output_type": "execute_result",
     "data": {
      "text/plain": [
       "(4, 2)"
      ]
     },
     "metadata": {},
     "execution_count": 8
    }
   ],
   "source": [
    "t.shape"
   ]
  },
  {
   "cell_type": "code",
   "execution_count": 9,
   "metadata": {},
   "outputs": [],
   "source": [
    "t = l3(t)"
   ]
  },
  {
   "cell_type": "code",
   "execution_count": 10,
   "metadata": {},
   "outputs": [
    {
     "output_type": "stream",
     "name": "stdout",
     "text": [
      "[[0.91514847 0.91514847]\n [0.08485153 0.08485153]]\n"
     ]
    }
   ],
   "source": [
    "print(t)"
   ]
  },
  {
   "cell_type": "code",
   "execution_count": 11,
   "metadata": {},
   "outputs": [
    {
     "output_type": "stream",
     "name": "stdout",
     "text": [
      "[[-0.19538082 -0.19538082]\n [-2.57356405 -2.57356405]]\n"
     ]
    }
   ],
   "source": [
    "x = l3.Z\n",
    "print(x)"
   ]
  },
  {
   "cell_type": "code",
   "execution_count": null,
   "metadata": {},
   "outputs": [],
   "source": []
  }
 ]
}