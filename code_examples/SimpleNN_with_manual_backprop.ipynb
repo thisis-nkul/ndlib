{
 "metadata": {
  "language_info": {
   "codemirror_mode": {
    "name": "ipython",
    "version": 3
   },
   "file_extension": ".py",
   "mimetype": "text/x-python",
   "name": "python",
   "nbconvert_exporter": "python",
   "pygments_lexer": "ipython3",
   "version": "3.8.5-final"
  },
  "orig_nbformat": 2,
  "kernelspec": {
   "name": "python38264bite84bebfac701438ebc1e8670f68f7992",
   "display_name": "Python 3.8.2 64-bit"
  }
 },
 "nbformat": 4,
 "nbformat_minor": 2,
 "cells": [
  {
   "cell_type": "code",
   "execution_count": 1,
   "metadata": {},
   "outputs": [],
   "source": [
    "import numpy as np\n",
    "import ndlib\n",
    "import ndlib.nn as nn\n",
    "import ndlib.functional as F"
   ]
  },
  {
   "cell_type": "code",
   "execution_count": 2,
   "metadata": {},
   "outputs": [
    {
     "output_type": "stream",
     "name": "stdout",
     "text": [
      "None\n"
     ]
    }
   ],
   "source": [
    "mdn = nn.SimpleNN(3, [100, 80, 40, 2], activations=['relu', 'relu', 'identity'])\n",
    "x = np.random.randn(100, 20)     #batch_size: 20\n",
    "y = np.random.randn(2, 20)      #target\n",
    "m = 20      #batch_size\n",
    "learning_rate = 0.01\n",
    "print(mdn.output)\n",
    "epochs = 20000"
   ]
  },
  {
   "cell_type": "code",
   "execution_count": 3,
   "metadata": {},
   "outputs": [
    {
     "output_type": "stream",
     "name": "stdout",
     "text": [
      "Cost after epoch 0: 29.359889794256063\n",
      "Cost after epoch 2000: 0.00012617303794777037\n",
      "Cost after epoch 4000: 1.1907205544989558e-07\n",
      "Cost after epoch 6000: 1.446963817923507e-10\n",
      "Cost after epoch 8000: 1.9799223812066433e-13\n",
      "Cost after epoch 10000: 3.014333225110918e-16\n",
      "Cost after epoch 12000: 5.024419375825267e-19\n",
      "Cost after epoch 14000: 8.945056204556898e-22\n",
      "Cost after epoch 16000: 1.6646809964297852e-24\n",
      "Cost after epoch 18000: 1.4653340187962535e-26\n"
     ]
    }
   ],
   "source": [
    "for i in range(epochs):\n",
    "    out = mdn(x)\n",
    "    loss = nn.MSELoss(out, y, m)\n",
    "    loss.compute_cost()\n",
    "\n",
    "    if i%2000 == 0:\n",
    "        print('Cost after epoch {}: {}'.format(i, loss.cost))\n",
    "\n",
    "    lb = loss.backward()\n",
    "\n",
    "    for layer in mdn.layers[::-1]:\n",
    "        lb = layer.backward(lb, m)\n",
    "        if hasattr(layer, 'W'):\n",
    "            layer.W = layer.W - learning_rate*layer.dW\n",
    "            layer.b = layer.b - learning_rate*layer.db\n"
   ]
  },
  {
   "cell_type": "code",
   "execution_count": 4,
   "metadata": {},
   "outputs": [
    {
     "output_type": "execute_result",
     "data": {
      "text/plain": [
       "array([[-0.23087264,  0.68094901, -0.39823552, -0.22610076,  0.47665305,\n",
       "        -1.04665359, -0.10879749,  0.93584157,  0.34554792,  0.78080324,\n",
       "        -0.26763049,  0.36756654, -0.36410513,  2.16391443, -0.23647692,\n",
       "        -0.86851141, -0.34278368,  1.17500151, -2.59447075,  0.24359953],\n",
       "       [ 0.89460131, -0.5403483 ,  0.80115025,  0.70470752,  0.40585984,\n",
       "        -0.83730528,  1.28159274,  1.45448281, -0.27922485,  0.4920266 ,\n",
       "        -0.33674512,  1.05998837,  0.80195997,  0.44793643,  2.20806461,\n",
       "        -0.76694677, -1.59062039, -2.19403616, -1.39351692,  2.35336834]])"
      ]
     },
     "metadata": {},
     "execution_count": 4
    }
   ],
   "source": [
    "y"
   ]
  },
  {
   "cell_type": "code",
   "execution_count": 5,
   "metadata": {},
   "outputs": [
    {
     "output_type": "execute_result",
     "data": {
      "text/plain": [
       "array([[-0.23087264,  0.68094901, -0.39823552, -0.22610076,  0.47665305,\n",
       "        -1.04665359, -0.10879749,  0.93584157,  0.34554792,  0.78080324,\n",
       "        -0.26763049,  0.36756654, -0.36410513,  2.16391443, -0.23647692,\n",
       "        -0.86851141, -0.34278368,  1.17500151, -2.59447075,  0.24359953],\n",
       "       [ 0.89460131, -0.5403483 ,  0.80115025,  0.70470752,  0.40585984,\n",
       "        -0.83730528,  1.28159274,  1.45448281, -0.27922485,  0.4920266 ,\n",
       "        -0.33674512,  1.05998837,  0.80195997,  0.44793643,  2.20806461,\n",
       "        -0.76694677, -1.59062039, -2.19403616, -1.39351692,  2.35336834]])"
      ]
     },
     "metadata": {},
     "execution_count": 5
    }
   ],
   "source": [
    "mdn(x)"
   ]
  }
 ]
}