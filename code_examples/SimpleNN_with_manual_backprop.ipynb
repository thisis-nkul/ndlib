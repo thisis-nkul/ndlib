{
 "metadata": {
  "language_info": {
   "codemirror_mode": {
    "name": "ipython",
    "version": 3
   },
   "file_extension": ".py",
   "mimetype": "text/x-python",
   "name": "python",
   "nbconvert_exporter": "python",
   "pygments_lexer": "ipython3",
   "version": "3.8.5-final"
  },
  "orig_nbformat": 2,
  "kernelspec": {
   "name": "python38264bite84bebfac701438ebc1e8670f68f7992",
   "display_name": "Python 3.8.2 64-bit"
  }
 },
 "nbformat": 4,
 "nbformat_minor": 2,
 "cells": [
  {
   "cell_type": "code",
   "execution_count": 1,
   "metadata": {},
   "outputs": [],
   "source": [
    "import numpy as np\n",
    "import ndlib\n",
    "import ndlib.nn as nn\n",
    "import ndlib.functional as F"
   ]
  },
  {
   "cell_type": "code",
   "execution_count": 2,
   "metadata": {},
   "outputs": [
    {
     "output_type": "stream",
     "name": "stdout",
     "text": [
      "None\n"
     ]
    }
   ],
   "source": [
    "mdn = nn.SimpleNN(3, [100, 80, 40, 2], activations=['relu', 'relu', 'identity'])\n",
    "x = np.random.randn(100, 20)     #batch_size: 20\n",
    "y = np.random.randn(2, 20)      #target\n",
    "m = 20      #batch_size\n",
    "learning_rate = 0.01\n",
    "print(mdn.output)\n",
    "epochs = 2000"
   ]
  },
  {
   "cell_type": "code",
   "execution_count": 3,
   "metadata": {},
   "outputs": [
    {
     "output_type": "stream",
     "name": "stdout",
     "text": [
      "Cost after epoch 0: 18.319486096804418\n",
      "Cost after epoch 200: 0.6056562021244443\n",
      "Cost after epoch 400: 0.15285799089092658\n",
      "Cost after epoch 600: 0.049899533689824416\n",
      "Cost after epoch 800: 0.018481896100167837\n",
      "Cost after epoch 1000: 0.007491795777456223\n",
      "Cost after epoch 1200: 0.003264496402316136\n",
      "Cost after epoch 1400: 0.0015039168193927252\n",
      "Cost after epoch 1600: 0.0007236758028363152\n",
      "Cost after epoch 1800: 0.0003597984733575564\n"
     ]
    }
   ],
   "source": [
    "for i in range(epochs):\n",
    "    out = mdn(x)\n",
    "    loss = nn.MSEloss(out, y, m)\n",
    "    loss.compute_cost()\n",
    "\n",
    "    if i%200 == 0:\n",
    "        print('Cost after epoch {}: {}'.format(i, loss.cost))\n",
    "\n",
    "    lb = loss.backward()\n",
    "\n",
    "    for layer in mdn.layers[::-1]:\n",
    "        lb = layer.backward(lb, m)\n",
    "        if hasattr(layer, 'W'):\n",
    "            layer.W = layer.W - learning_rate*layer.dW\n",
    "            layer.b = layer.b - learning_rate*layer.db\n"
   ]
  },
  {
   "cell_type": "code",
   "execution_count": 4,
   "metadata": {},
   "outputs": [
    {
     "output_type": "execute_result",
     "data": {
      "text/plain": [
       "array([[-0.17757707,  0.17650965, -0.04579268,  0.82813413, -0.82263117,\n",
       "         2.24801827,  0.90114892,  0.91006864, -0.33544608,  0.88929808,\n",
       "        -0.20576265, -0.75368563, -2.03635835,  0.87216211, -1.59560058,\n",
       "        -0.1658178 , -2.03390618, -0.24073783, -0.95334451,  0.5245887 ],\n",
       "       [-0.36759414,  0.8299348 ,  0.16081091, -1.41029369,  0.40982136,\n",
       "        -1.33438732,  0.00457326, -0.99252314, -0.34974258, -1.35756769,\n",
       "        -0.73669864, -1.36223716,  0.78242216,  0.15171462,  1.53682209,\n",
       "         0.08656471,  0.33292191, -1.8742912 , -0.69496522, -0.56345479]])"
      ]
     },
     "metadata": {},
     "execution_count": 4
    }
   ],
   "source": [
    "y"
   ]
  },
  {
   "cell_type": "code",
   "execution_count": 5,
   "metadata": {},
   "outputs": [
    {
     "output_type": "execute_result",
     "data": {
      "text/plain": [
       "array([[-0.14991863,  0.18995936, -0.04426938,  0.83058149, -0.81318872,\n",
       "         2.2285375 ,  0.89813297,  0.89314544, -0.30907227,  0.86494754,\n",
       "        -0.20886398, -0.77139722, -2.03412921,  0.87193436, -1.59988631,\n",
       "        -0.16184279, -2.03791058, -0.24902691, -0.95496054,  0.53857527],\n",
       "       [-0.39520877,  0.81670693,  0.15941868, -1.40886225,  0.39839039,\n",
       "        -1.31578054,  0.00552315, -0.975733  , -0.37631024, -1.33352625,\n",
       "        -0.73600615, -1.34631902,  0.7824204 ,  0.15251056,  1.54216199,\n",
       "         0.08019294,  0.33939591, -1.86511604, -0.69351774, -0.57926728]])"
      ]
     },
     "metadata": {},
     "execution_count": 5
    }
   ],
   "source": [
    "mdn(x)"
   ]
  }
 ]
}