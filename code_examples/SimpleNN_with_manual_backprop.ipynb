{
 "metadata": {
  "language_info": {
   "codemirror_mode": {
    "name": "ipython",
    "version": 3
   },
   "file_extension": ".py",
   "mimetype": "text/x-python",
   "name": "python",
   "nbconvert_exporter": "python",
   "pygments_lexer": "ipython3",
   "version": "3.8.5-final"
  },
  "orig_nbformat": 2,
  "kernelspec": {
   "name": "python38264bite84bebfac701438ebc1e8670f68f7992",
   "display_name": "Python 3.8.2 64-bit"
  }
 },
 "nbformat": 4,
 "nbformat_minor": 2,
 "cells": [
  {
   "cell_type": "code",
   "execution_count": 6,
   "metadata": {},
   "outputs": [],
   "source": [
    "import numpy as np\n",
    "import ndlib\n",
    "import ndlib.nn as nn\n",
    "import ndlib.functional as F"
   ]
  },
  {
   "cell_type": "code",
   "execution_count": 7,
   "metadata": {},
   "outputs": [
    {
     "output_type": "stream",
     "name": "stdout",
     "text": [
      "None\n"
     ]
    }
   ],
   "source": [
    "mdn = nn.SimpleNN(3, [100, 80, 40, 2], activations=['relu', 'relu', 'identity'])\n",
    "x = np.random.randn(100, 20)     #batch_size: 20\n",
    "y = np.random.randn(2, 20)      #target\n",
    "m = 20      #batch_size\n",
    "learning_rate = 0.01\n",
    "print(mdn.output)\n",
    "epochs = 20000"
   ]
  },
  {
   "cell_type": "code",
   "execution_count": 8,
   "metadata": {},
   "outputs": [
    {
     "output_type": "stream",
     "name": "stdout",
     "text": [
      "Cost after epoch 0: 9.54056877749721\n",
      "Cost after epoch 2000: 0.0002877587174245041\n",
      "Cost after epoch 4000: 6.909066804685439e-07\n",
      "Cost after epoch 6000: 1.654206847487564e-09\n",
      "Cost after epoch 8000: 3.977011433854343e-12\n",
      "Cost after epoch 10000: 9.570636043700819e-15\n",
      "Cost after epoch 12000: 2.3022659390166012e-17\n",
      "Cost after epoch 14000: 5.536438516753114e-20\n",
      "Cost after epoch 16000: 1.3310152422206952e-22\n",
      "Cost after epoch 18000: 3.543847907861268e-25\n"
     ]
    }
   ],
   "source": [
    "for i in range(epochs):\n",
    "    out = mdn(x)\n",
    "    loss = nn.MSELoss(out, y, m)\n",
    "    loss.compute_cost()\n",
    "\n",
    "    if i%2000 == 0:\n",
    "        print('Cost after epoch {}: {}'.format(i, loss.cost))\n",
    "\n",
    "    lb = loss.backward()\n",
    "\n",
    "    for layer in mdn.layers[::-1]:\n",
    "        lb = layer.backward(lb, m)\n",
    "        if hasattr(layer, 'W'):\n",
    "            layer.W = layer.W - learning_rate*layer.dW\n",
    "            layer.b = layer.b - learning_rate*layer.db\n"
   ]
  },
  {
   "cell_type": "code",
   "execution_count": 9,
   "metadata": {},
   "outputs": [
    {
     "output_type": "execute_result",
     "data": {
      "text/plain": [
       "array([[ 0.17555346, -0.44337834,  1.05961077,  2.04850163,  1.27815662,\n",
       "         0.24367723,  0.86681139,  1.29285712, -1.23177343, -0.59712162,\n",
       "         0.23532295,  0.01553938,  0.47145432, -0.21434416,  2.14241127,\n",
       "         0.78749879, -0.14177936, -0.2538953 , -0.69172229,  0.74292056],\n",
       "       [-0.01399662, -1.33719267,  0.85492058,  0.08119082,  0.78863716,\n",
       "         0.98644279, -0.16797891, -0.63986392,  1.638829  ,  0.44922155,\n",
       "         0.27088262, -0.96854694, -0.30900176, -1.632014  , -0.55795367,\n",
       "         0.52053377, -0.88011695,  0.61952653, -0.19846222, -2.15854447]])"
      ]
     },
     "metadata": {},
     "execution_count": 9
    }
   ],
   "source": [
    "y"
   ]
  },
  {
   "cell_type": "code",
   "execution_count": 10,
   "metadata": {},
   "outputs": [
    {
     "output_type": "execute_result",
     "data": {
      "text/plain": [
       "array([[ 0.17555346, -0.44337834,  1.05961077,  2.04850163,  1.27815662,\n",
       "         0.24367723,  0.86681139,  1.29285712, -1.23177343, -0.59712162,\n",
       "         0.23532295,  0.01553938,  0.47145432, -0.21434416,  2.14241127,\n",
       "         0.78749879, -0.14177936, -0.2538953 , -0.69172229,  0.74292056],\n",
       "       [-0.01399662, -1.33719267,  0.85492058,  0.08119082,  0.78863716,\n",
       "         0.98644279, -0.16797891, -0.63986392,  1.638829  ,  0.44922155,\n",
       "         0.27088262, -0.96854694, -0.30900176, -1.632014  , -0.55795367,\n",
       "         0.52053377, -0.88011695,  0.61952653, -0.19846222, -2.15854447]])"
      ]
     },
     "metadata": {},
     "execution_count": 10
    }
   ],
   "source": [
    "mdn(x)"
   ]
  }
 ]
}